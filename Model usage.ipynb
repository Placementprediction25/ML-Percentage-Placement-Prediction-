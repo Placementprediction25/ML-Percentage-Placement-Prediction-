{
 "cells": [
  {
   "cell_type": "code",
   "execution_count": 2,
   "id": "052a7357-ca32-414c-bf39-41277a46167c",
   "metadata": {},
   "outputs": [],
   "source": [
    "from joblib import dump,load\n",
    "import numpy as np\n",
    "model = load('Placement.joblib')"
   ]
  },
  {
   "cell_type": "code",
   "execution_count": 3,
   "id": "8a3aa42a-b014-4a5f-b2d5-9d0362812511",
   "metadata": {},
   "outputs": [
    {
     "data": {
      "text/plain": [
       "array([51.676])"
      ]
     },
     "execution_count": 3,
     "metadata": {},
     "output_type": "execute_result"
    }
   ],
   "source": [
    "input = np.array([[-0.47082589, -0.12612966, -0.88719218, -1.01720711, -0.7006691 ,\n",
    "        -2.3418742 , -0.76848744,  0.46558923, -1.27254981, -0.00683779,\n",
    "        -0.70326861,  0.97292653,  0.69643232]])\n",
    "model.predict(input)"
   ]
  },
  {
   "cell_type": "code",
   "execution_count": null,
   "id": "1d1c1d52-4163-4afc-9e47-6cdad2463416",
   "metadata": {},
   "outputs": [],
   "source": []
  }
 ],
 "metadata": {
  "kernelspec": {
   "display_name": "Python 3 (ipykernel)",
   "language": "python",
   "name": "python3"
  },
  "language_info": {
   "codemirror_mode": {
    "name": "ipython",
    "version": 3
   },
   "file_extension": ".py",
   "mimetype": "text/x-python",
   "name": "python",
   "nbconvert_exporter": "python",
   "pygments_lexer": "ipython3",
   "version": "3.13.7"
  }
 },
 "nbformat": 4,
 "nbformat_minor": 5
}
